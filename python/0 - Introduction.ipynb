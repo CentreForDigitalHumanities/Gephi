{
 "cells": [
  {
   "cell_type": "markdown",
   "metadata": {},
   "source": [
    "# Network exploration and analysis in Python\n",
    "In this part of the workshop we will gain insight into using a different toolkit for analysis networks. The Python package [NetworkX](https://networkx.org/) allows us to use a programmatic approach to network analysis.\n",
    "\n",
    "## Part 0: Introduction\n",
    "\n",
    "### Gephi vs Python\n",
    "In the previous part of the workshop we explored and analysed a network using a graphical user interface (Gephi). Why would we want to do the same thing with a programming language? There are advantages and disadvantages to both approaches:\n",
    "\n",
    "- Ease of use\n",
    "    - Gephi is easy to operate using a graphical user interface. Feedback is also visual: networks are easy to visualise. \n",
    "    - Python is a programming language: you need to learn this language to operate the program. Visualisation is harder for large networks. \n",
    "- Reproducibility\n",
    "    - As previously discussed, there is a random element to Gephi that makes results hard to reproduce\n",
    "    - With Python, you are in control of randomization, making is easier to reproduce\n",
    "- Flexibility \n",
    "    - Gephi is a specialized tool for network visualization and analysis. \n",
    "    - Python is a programming language that can be used for a vast array of tasks and topics.\n",
    "\n",
    "### Purpose and outline of this workshop\n",
    "We will focus on the last point of the previous section: *flexibility*.\n",
    "First, we show that the same analyses we performed in Gephi can be run in Python. \n",
    "\n",
    "Then, we go beyond Gephi's capabilities by leveraging text analysis in Python. We will focus on the user profile descriptions that are present in the data. By extracting the hashtags used in these profiles, we will aim to get some insight into the topics users of the largest clusters in the network are interested in.\n",
    "\n",
    "### A word about 'entry requirements'\n",
    "You might be intimidated by the code blocks that are coming up. We assume **no** previous programming experience. The notebooks are set up in a way that allows you to execute the code without changing any parts, and produce interesting results. Here are some tips for each experience level:\n",
    "\n",
    "- If you are completely new to programming: execute the program, see what happens, try to comprehend some of the code. Perhaps find a teammate (real or AI-generated) that can explain some of the code to you. \n",
    "- If you have some programming experience, but not in Python: see if you can apply your experience with other language to the code. Many concepts in programming are shared between languages. \n",
    "- If you have experience programming in Python: change parts of the code, explore beyond the beaten path, you have unlocked the *fun skills*! \n",
    "\n",
    "\n",
    "Let's dive in!\n",
    "\n"
   ]
  },
  {
   "cell_type": "markdown",
   "metadata": {},
   "source": [
    "## Part 1: data preparation \n",
    "### Exporting the Gephi graph\n",
    "To work on the data in Python, we will need to export a *graph file*. We will later use the spreadsheet export you performed at the end of the Gephi section, so don't discard that one! \n",
    "\n",
    "In the `File` menu of Gephi, with your network open, select `Export -> Graph File`\n",
    "![export](../img/export.jpg)\n",
    "\n",
    "In the export menu, choose the [GraphML file format](http://graphml.graphdrawing.org/). This is a common file format for exchanging graphs. You can choose if you want to export the whole graph, or only the visualised parts. If you want some nodes filtered out, apply the filter in Gephi and select the last option.\n",
    "![filetype](../img/filetype.jpg)\n",
    "\n",
    "If you are using Google Colab to run this notebook, you will need to upload the data to the environment. Select the `files` tab and upload by selecting `upload` or dragging the file from your computer. \n",
    "![filestab](../img/colab_filetab.jpg)\n",
    "![uploadbutton](../img/colab_uploadbutton.jpg)\n",
    "\n",
    "If everything went well, your file will show up in the files tab. "
   ]
  }
 ],
 "metadata": {
  "kernelspec": {
   "display_name": ".env",
   "language": "python",
   "name": "python3"
  },
  "language_info": {
   "name": "python",
   "version": "3.11.10"
  }
 },
 "nbformat": 4,
 "nbformat_minor": 2
}
