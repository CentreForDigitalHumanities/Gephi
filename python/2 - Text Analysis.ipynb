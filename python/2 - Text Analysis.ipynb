{
 "cells": [
  {
   "cell_type": "markdown",
   "metadata": {},
   "source": [
    "# Exploring and analysing the network data in Python\n",
    "\n",
    "In this part of the workshop, we move beyond network analysis and show you one possible direction Python can offer. \n",
    "We will extract hashtags from user profiles, and see if these tell us something about the clusters in the network. \n",
    "\n",
    "### The data\n",
    "We will work with the table export you performed at the end of the Gephi part of the workshop.\n",
    "\n",
    "If you did not manage to make a good export, or if you wish to take this part , you can use the file located at the Github repository under `files/example_gephi_export.csv`.\n",
    "\n",
    "If working in Google Colab, make sure to upload the data as before."
   ]
  },
  {
   "cell_type": "markdown",
   "metadata": {},
   "source": []
  },
  {
   "cell_type": "markdown",
   "metadata": {},
   "source": [
    "## Part 3: Opening and exploring the Gephi export\n"
   ]
  },
  {
   "cell_type": "code",
   "execution_count": 2,
   "metadata": {},
   "outputs": [],
   "source": [
    "# we will use the Pandas package for much of this workshop\n",
    "# you do not need to understand everything that is going on, as long as you are able to follow the steps in a general sense\n",
    "import pandas as pd\n",
    "\n",
    "# read the nodes table\n",
    "nodes = pd.read_csv('../files/example_gephi_export.csv', sep=';')"
   ]
  },
  {
   "cell_type": "code",
   "execution_count": null,
   "metadata": {},
   "outputs": [],
   "source": [
    "# display some information about the data\n",
    "# do you know what each column means? If not, go back to Gephi and try to figure it out\n",
    "print(nodes.info())"
   ]
  },
  {
   "cell_type": "code",
   "execution_count": null,
   "metadata": {},
   "outputs": [],
   "source": [
    "# using .head(), we can display the first N rows (default=5)\n",
    "print(nodes.head(1))"
   ]
  },
  {
   "cell_type": "code",
   "execution_count": null,
   "metadata": {},
   "outputs": [],
   "source": [
    "# inspect a column\n",
    "print(nodes['author.description'].head(5))\n",
    "\n",
    "# display the full value of the author.description for the first row\n",
    "print(nodes.iloc[0]['author.description'])"
   ]
  },
  {
   "cell_type": "markdown",
   "metadata": {},
   "source": [
    "## Part 4: Extracting information\n",
    "Inspecting a single user descirption reveals an interesting detail. Hashtags (e.g. #IamAChristian) are a vital part of Twitter/X's vocabulary. \n",
    "Extracting them from the descriptions will enable easier comparison with other users.\n",
    "To extract the hashtags, we will use a *Regular Expression*: a pattern that defines part of a text that we are interested in."
   ]
  },
  {
   "cell_type": "code",
   "execution_count": 19,
   "metadata": {},
   "outputs": [],
   "source": [
    "# import Python's built-in Regular Expressions package\n",
    "import re\n",
    "\n",
    "hashtag_pattern = r'\\#\\w+'"
   ]
  },
  {
   "cell_type": "markdown",
   "metadata": {},
   "source": [
    "### explanation of the hashtag pattern (thanks GenAI)\n",
    "\n",
    "The regular expression `\\#\\w+` can be broken down into the following components:\n",
    "\n",
    "1. **`\\#`**: \n",
    "   - The backslash (`\\`) is an escape character, which means it is used to treat the hash symbol (`#`) as a literal character rather than a special character in regular expressions. So, this part of the expression matches the `#` symbol literally.\n",
    "\n",
    "2. **`\\w+`**: \n",
    "   - `\\w` is a shorthand character class that matches any \"word\" character. Specifically, it matches:\n",
    "     - Any letter (uppercase or lowercase),\n",
    "     - Any digit (0-9),\n",
    "     - The underscore (`_`).\n",
    "   - The `+` following `\\w` means \"one or more\" of the preceding character class. So, `\\w+` will match one or more word characters.\n",
    "\n",
    "#### In summary:\n",
    "The regular expression `\\#\\w+` matches any string that starts with a `#` symbol, followed by one or more word characters (letters, digits, or underscores).\n",
    "\n",
    "Example matches:\n",
    "- `#hello`\n",
    "- `#123`\n",
    "- `#word_example`\n",
    "\n",
    "This pattern could be used to match hashtags or identifiers that start with `#` followed by alphanumeric characters or underscores."
   ]
  },
  {
   "cell_type": "markdown",
   "metadata": {},
   "source": [
    "### Extracting hashtags to a separate column"
   ]
  },
  {
   "cell_type": "code",
   "execution_count": 45,
   "metadata": {},
   "outputs": [],
   "source": [
    "# put the code for extracting a hashtag in a function so we can easily re-use it\n",
    "def extract_hashtags(text):\n",
    "    # make sure the input is a string\n",
    "    text = str(text)\n",
    "\n",
    "    # make and return a list of all found hashtags\n",
    "    hashtags = re.findall(hashtag_pattern, text)\n",
    "    return hashtags"
   ]
  },
  {
   "cell_type": "code",
   "execution_count": null,
   "metadata": {},
   "outputs": [],
   "source": [
    "# let's try the pattern on the description we found earlier\n",
    "description = nodes.iloc[0]['author.description']\n",
    "print(extract_hashtags(description))"
   ]
  },
  {
   "cell_type": "code",
   "execution_count": null,
   "metadata": {},
   "outputs": [],
   "source": [
    "# now that we have a way to extract hashtags, let's do so for our entire data\n",
    "# we search the author.description column, and make a new column called hashtags with the results\n",
    "nodes['hashtags'] = nodes['author.description'].apply(extract_hashtags)\n",
    "\n",
    "# display the first few rows of hashtags, what stands out?\n",
    "print(nodes['hashtags'].head(20))"
   ]
  },
  {
   "cell_type": "code",
   "execution_count": null,
   "metadata": {},
   "outputs": [],
   "source": [
    "# let's say we are only interested in users with hashtags in their description\n",
    "#first, filter the data\n",
    "\n",
    "hashtag_users = nodes[nodes['hashtags'].str.len() != 0]\n",
    "\n",
    "# only selecting hashtag users has a big cost: we ignore a large number of users\n",
    "print('original amount of users:', len(nodes))\n",
    "print('amount of users using hashtags:', len(hashtag_users))"
   ]
  },
  {
   "cell_type": "markdown",
   "metadata": {},
   "source": [
    "### Counting hashtags\n",
    "Now that we have extracted the hashtags, let's see if we can detect some patterns in them."
   ]
  },
  {
   "cell_type": "code",
   "execution_count": null,
   "metadata": {},
   "outputs": [],
   "source": [
    "# first, make a flat list of all hashtags\n",
    "# .explode(column) makes a separate row for each hashtags if a single user has more than one\n",
    "flat_hashtags = hashtag_users.explode('hashtags')['hashtags']\n",
    "\n",
    "# now count the occurence of each hashtag\n",
    "flat_hashtags.value_counts()\n"
   ]
  },
  {
   "cell_type": "markdown",
   "metadata": {},
   "source": [
    "## Part 5: Comparing modularity classes\n",
    "Remember the modularity classes we generated in Gephi?\n",
    "\n",
    "We can see if users clustered in different classes prefer different hashtags."
   ]
  },
  {
   "cell_type": "code",
   "execution_count": null,
   "metadata": {},
   "outputs": [],
   "source": [
    "# first, get the two biggest classes\n",
    "classes_counts = hashtag_users['modularity_class'].value_counts()\n",
    "print(classes_counts)\n",
    "\n",
    "first_class = classes_counts.index[0]\n",
    "second_class = classes_counts.index[1]\n",
    "\n",
    "print('largest class:', first_class)\n",
    "print('second largest class:', second_class)"
   ]
  },
  {
   "cell_type": "code",
   "execution_count": 81,
   "metadata": {},
   "outputs": [],
   "source": [
    "# repeat the counting of hashtags for each of the clusters\n",
    "\n",
    "largest_cluster = hashtag_users[hashtag_users['modularity_class'] == first_class]\n",
    "second_cluster = hashtag_users[hashtag_users['modularity_class'] == second_class]\n",
    "\n",
    "largest_cluster_hashtags = largest_cluster.explode('hashtags')['hashtags'].value_counts()\n",
    "second_cluster_hashtags = second_cluster.explode('hashtags')['hashtags'].value_counts()\n"
   ]
  },
  {
   "cell_type": "markdown",
   "metadata": {},
   "source": [
    "### Compare the hashtags for the two largest clusters\n",
    "For the example data, there is a clear difference in hashtags! We could even identify the clusters based on their hashtags."
   ]
  },
  {
   "cell_type": "code",
   "execution_count": null,
   "metadata": {},
   "outputs": [],
   "source": [
    "print(largest_cluster_hashtags)"
   ]
  },
  {
   "cell_type": "code",
   "execution_count": null,
   "metadata": {},
   "outputs": [],
   "source": [
    "print(second_cluster_hashtags)"
   ]
  },
  {
   "cell_type": "markdown",
   "metadata": {},
   "source": [
    "## Part 6: Where to go from here?\n",
    "We mentioned flexibility. With your toes dipped into the vast ocean of programming, many options are opened up to you. Here are a few suggestions:\n",
    "\n",
    "- Take a deep dive into network analysis using [networkx](https://networkx.org/)\n",
    "- Apply Natural Language Processing techniques using [Spacy](https://spacy.io/), and/or [nltk](https://www.nltk.org/)\n",
    "- Work with linked data in Python using [rdflib](https://rdflib.readthedocs.io/en/stable/)\n",
    "\n",
    "If, at a later date, you need any advice or inspiration for any digital research, we welcome you to attend one of our [walk-in hours](https://cdh.uu.nl/training/walk-in-hours/).\n",
    "\n",
    "Happy programming!"
   ]
  }
 ],
 "metadata": {
  "kernelspec": {
   "display_name": ".env",
   "language": "python",
   "name": "python3"
  },
  "language_info": {
   "codemirror_mode": {
    "name": "ipython",
    "version": 3
   },
   "file_extension": ".py",
   "mimetype": "text/x-python",
   "name": "python",
   "nbconvert_exporter": "python",
   "pygments_lexer": "ipython3",
   "version": "3.11.10"
  }
 },
 "nbformat": 4,
 "nbformat_minor": 2
}
