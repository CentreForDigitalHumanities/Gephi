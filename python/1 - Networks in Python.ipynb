{
 "cells": [
  {
   "cell_type": "markdown",
   "metadata": {},
   "source": [
    "## Part 2: Network exploration and analysis in Python\n",
    "In this part, we will briefly show how to do network analysis in Python. This will demonstrate the difference between a graphical and programmatic approach. \n",
    "\n",
    "We will *not* dive too deeply into network analysis in Python. If you are interested in that, we recommend the [NetworkX documentation](https://networkx.org/documentation/stable/).\n",
    "\n",
    "### Loading the graph"
   ]
  },
  {
   "cell_type": "code",
   "execution_count": null,
   "metadata": {},
   "outputs": [],
   "source": [
    "# Let's get into some Python by loading the graph we exported from Gephi!\n",
    "\n",
    "import networkx as nx # nx is the conventional shorthand for networkx\n",
    "\n",
    "filename = '../files/gephi_export.graphml' # change this if you named your uploaded file differently\n",
    "\n",
    "# import the graph. this may take a few seconds\n",
    "G = nx.read_graphml(filename)\n",
    "\n",
    "# let's see if there are some nodes in there\n",
    "nodes = list(G.nodes)\n",
    "\n",
    "print(nodes[:5]) # print the first 5 nodes"
   ]
  },
  {
   "cell_type": "markdown",
   "metadata": {},
   "source": [
    "### Network statistics"
   ]
  },
  {
   "cell_type": "code",
   "execution_count": null,
   "metadata": {},
   "outputs": [],
   "source": [
    "# now that we have our graph, let's display some statistics\n",
    "print(f\"Number of nodes: {len(G.nodes())}\")\n",
    "print(f\"Number of edges: {len(G.edges())}\")\n",
    "\n",
    "# Graph density (https://en.wikipedia.org/wiki/Dense_graph)\n",
    "density = nx.density(G)\n",
    "print(f\"Graph Density: {density}\")"
   ]
  },
  {
   "cell_type": "code",
   "execution_count": null,
   "metadata": {},
   "outputs": [],
   "source": [
    "# just like in Gephi, we can calculate the degree for each node\n",
    "in_degrees = G.in_degree\n",
    "print(in_degrees)\n",
    "\n",
    "# or the outgoing degree\n",
    "out_degrees = G.out_degree\n",
    "print(out_degrees)\n",
    "\n",
    "# degree centrality\n",
    "degree_centrality = nx.degree_centrality(G)\n",
    "print(degree_centrality)"
   ]
  },
  {
   "cell_type": "code",
   "execution_count": null,
   "metadata": {},
   "outputs": [],
   "source": [
    "# find the neighbours of a certain node\n",
    "# for our directed graph, these are succesor nodes\n",
    "neighbors = G.neighbors('PeacefulConserv')\n",
    "\n",
    "print(list(neighbors))"
   ]
  },
  {
   "cell_type": "code",
   "execution_count": null,
   "metadata": {},
   "outputs": [],
   "source": [
    "# as in Gephi, we can generate an ego network\n",
    "# play around with the 'radius' parameter and see what it does\n",
    "ego_graph = nx.ego_graph(G, 'PeacefulConserv', radius=1)\n",
    "\n",
    "# these smaller networks are fine to draw in Python\n",
    "nx.draw_networkx(ego_graph, with_labels=True)"
   ]
  },
  {
   "cell_type": "markdown",
   "metadata": {},
   "source": [
    "###  Further reading\n",
    "There are many algorithms available in NetworkX. Every analysis that you can run in Gephi is also possible in Python.\n",
    "\n",
    "We leave this up to you to explore in your own time, and move on to text analysis. \n",
    "\n",
    "Take a look at the [available algorithms](https://networkx.org/documentation/stable/reference/algorithms/index.html) for inspiration!"
   ]
  }
 ],
 "metadata": {
  "kernelspec": {
   "display_name": ".env",
   "language": "python",
   "name": "python3"
  },
  "language_info": {
   "codemirror_mode": {
    "name": "ipython",
    "version": 3
   },
   "file_extension": ".py",
   "mimetype": "text/x-python",
   "name": "python",
   "nbconvert_exporter": "python",
   "pygments_lexer": "ipython3",
   "version": "3.11.10"
  }
 },
 "nbformat": 4,
 "nbformat_minor": 2
}
